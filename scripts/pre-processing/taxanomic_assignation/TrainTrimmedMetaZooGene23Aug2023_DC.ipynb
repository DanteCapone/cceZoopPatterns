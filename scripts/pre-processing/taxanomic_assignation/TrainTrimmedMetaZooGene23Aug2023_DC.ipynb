{
 "cells": [
  {
   "cell_type": "code",
   "execution_count": 1,
   "metadata": {},
   "outputs": [
    {
     "name": "stdout",
     "output_type": "stream",
     "text": [
      "\u001b[32mSystem versions\u001b[0m\n",
      "Python version: 3.8.16\n",
      "QIIME 2 release: 2023.5\n",
      "QIIME 2 version: 2023.5.1\n",
      "q2cli version: 2023.5.1\n",
      "\u001b[32m\n",
      "Installed plugins\u001b[0m\n",
      "alignment: 2023.5.0\n",
      "composition: 2023.5.0\n",
      "cutadapt: 2023.5.1\n",
      "dada2: 2023.5.0\n",
      "deblur: 2023.5.0\n",
      "demux: 2023.5.0\n",
      "diversity: 2023.5.1\n",
      "diversity-lib: 2023.5.0\n",
      "emperor: 2023.5.0\n",
      "feature-classifier: 2023.5.0\n",
      "feature-table: 2023.5.0\n",
      "fragment-insertion: 2023.5.0\n",
      "gneiss: 2023.5.0\n",
      "longitudinal: 2023.5.0\n",
      "metadata: 2023.5.0\n",
      "phylogeny: 2023.5.0\n",
      "quality-control: 2023.5.0\n",
      "quality-filter: 2023.5.0\n",
      "sample-classifier: 2023.5.0\n",
      "taxa: 2023.5.0\n",
      "types: 2023.5.0\n",
      "vsearch: 2023.5.0\n",
      "\u001b[32m\n",
      "Application config directory\u001b[0m\n",
      "/home/dcapone/miniconda3/envs/qiime2-2023.5/var/q2cli\u001b[0m\n",
      "\u001b[32m\n",
      "Getting help\u001b[0m\n",
      "To get help with QIIME 2, visit https://qiime2.org\u001b[0m\n"
     ]
    }
   ],
   "source": [
    "#import the qiime2 python module to allow for inline visualizations\n",
    "import qiime2 as q2\n",
    "\n",
    "#which version of qiime2 and python are we using?\n",
    "!qiime info"
   ]
  },
  {
   "cell_type": "code",
   "execution_count": null,
   "metadata": {},
   "outputs": [],
   "source": []
  },
  {
   "cell_type": "markdown",
   "metadata": {},
   "source": [
    "First import the COI data (trimmed), train the classifier, and test it on the mock sequences"
   ]
  },
  {
   "cell_type": "code",
   "execution_count": 50,
   "metadata": {
    "scrolled": true
   },
   "outputs": [
    {
     "name": "stdout",
     "output_type": "stream",
     "text": [
      "\u001b[32mImported /Users/stephaniematthews/Documents/databases/MetaZooGene26Oct2022/Leray_COI_MetaZooGene.fasta as DNASequencesDirectoryFormat to /Users/stephaniematthews/Documents/databases/MetaZooGene26Oct2022/Leray_COI_MetaZooGene.qza\u001b[0m\n",
      "\u001b[32mImported /Users/stephaniematthews/Documents/databases/MetaZooGene26Oct2022/MZGmothur-coi__MZGdbALL__o00__A_withCCESeqs.txt as HeaderlessTSVTaxonomyFormat to /Users/stephaniematthews/Documents/databases/MetaZooGene26Oct2022/MZGmothur-coi__MZGdbALL__o00__A.qza\u001b[0m\n"
     ]
    }
   ],
   "source": [
    "#import the sequence data\n",
    "!qiime tools import \\\n",
    "  --type 'FeatureData[Sequence]' \\\n",
    "  --input-path /Users/stephaniematthews/Documents/databases/MetaZooGene26Oct2022/Leray_COI_MetaZooGene.fasta \\\n",
    "  --output-path /Users/stephaniematthews/Documents/databases/MetaZooGene26Oct2022/Leray_COI_MetaZooGene.qza\n",
    "\n",
    "#import the taxonomy data\n",
    "!qiime tools import \\\n",
    "  --type 'FeatureData[Taxonomy]' \\\n",
    "  --input-format HeaderlessTSVTaxonomyFormat \\\n",
    "  --input-path /Users/stephaniematthews/Documents/databases/MetaZooGene26Oct2022/MZGmothur-coi__MZGdbALL__o00__A_withCCESeqs.txt \\\n",
    "  --output-path /Users/stephaniematthews/Documents/databases/MetaZooGene26Oct2022/MZGmothur-coi__MZGdbALL__o00__A.qza"
   ]
  },
  {
   "cell_type": "code",
   "execution_count": 51,
   "metadata": {},
   "outputs": [
    {
     "name": "stdout",
     "output_type": "stream",
     "text": [
      "\u001b[32mSaved TaxonomicClassifier to: /Users/stephaniematthews/Documents/databases/MetaZooGene26Oct2022/MZG-leray-classifier_r_trimmed.qza\u001b[0m\r\n"
     ]
    }
   ],
   "source": [
    "#train classifier\n",
    "!qiime feature-classifier fit-classifier-naive-bayes \\\n",
    "  --i-reference-reads /Users/stephaniematthews/Documents/databases/MetaZooGene26Oct2022/Leray_COI_MetaZooGene.qza \\\n",
    "  --i-reference-taxonomy /Users/stephaniematthews/Documents/databases/MetaZooGene26Oct2022/MZGmothur-coi__MZGdbALL__o00__A.qza \\\n",
    "  --o-classifier /Users/stephaniematthews/Documents/databases/MetaZooGene26Oct2022/MZG-leray-classifier_r_trimmed.qza\n"
   ]
  },
  {
   "cell_type": "code",
   "execution_count": 52,
   "metadata": {},
   "outputs": [
    {
     "name": "stdout",
     "output_type": "stream",
     "text": [
      "\u001b[32mSaved FeatureData[Taxonomy] to: /Users/stephaniematthews/Documents/databases/mockCOI-taxonomy-leray_trimmed.qza\u001b[0m\n",
      "\u001b[32mSaved Visualization to: /Users/stephaniematthews/Documents/databases/mockCOI-taxonomy-leray_trimmed.qzv\u001b[0m\n"
     ]
    }
   ],
   "source": [
    "#test it on the mock sequences\n",
    "#!qiime tools import \\\n",
    "#  --type 'FeatureData[Sequence]' \\\n",
    "#  --input-path /Users/stephaniematthews/Desktop/UniqueCOI.fasta \\\n",
    "#  --output-path /Users/stephaniematthews/Documents/databases/mockCOI.qza\n",
    "\n",
    "!qiime feature-classifier classify-sklearn \\\n",
    "  --i-classifier /Users/stephaniematthews/Documents/databases/MetaZooGene26Oct2022/MZG-leray-classifier_r_trimmed.qza \\\n",
    "  --i-reads /Users/stephaniematthews/Documents/databases/mockCOI.qza \\\n",
    "  --o-classification /Users/stephaniematthews/Documents/databases/mockCOI-taxonomy-leray_trimmed.qza\n",
    "\n",
    "!qiime metadata tabulate \\\n",
    "  --m-input-file /Users/stephaniematthews/Documents/databases/mockCOI-taxonomy-leray_trimmed.qza \\\n",
    "  --o-visualization /Users/stephaniematthews/Documents/databases/mockCOI-taxonomy-leray_trimmed.qzv"
   ]
  },
  {
   "cell_type": "code",
   "execution_count": 53,
   "metadata": {},
   "outputs": [
    {
     "data": {
      "text/html": [
       "<div><img onload=\"(function(div, url){\n",
       "if (typeof require !== 'undefined') {\n",
       "    var baseURL = require.toUrl('').split('/').slice(0, -2).join('/');\n",
       "} else {\n",
       "    var baseURL = JSON.parse(\n",
       "        document.getElementById('jupyter-config-data').innerHTML\n",
       "    ).baseUrl.slice(0, -1);\n",
       "}\n",
       "url = baseURL + url;\n",
       "fetch(url).then(function(res) {\n",
       "    if (res.status === 404) {\n",
       "        div.innerHTML = 'Install QIIME 2 Jupyter extension with:<br />' +\n",
       "                        '<code>jupyter serverextension enable --py qiime2' +\n",
       "                        ' --sys-prefix</code><br />then restart your server.' +\n",
       "                        '<br /><br />(Interactive output not available on ' +\n",
       "                        'static notebook viewer services like nbviewer.)';\n",
       "    } else if (res.status === 409) {\n",
       "        div.innerHTML = 'Visualization no longer in scope. Re-run this cell' +\n",
       "                        ' to see the visualization.';\n",
       "    } else if (res.ok) {\n",
       "        url = res.url;\n",
       "        div.innerHTML = '<iframe src=\\'' + url + '\\' style=\\'' +\n",
       "                        'width: 100%; height: 700px; border: 0;\\'>' +\n",
       "                        '</iframe><hr />Open in a: <a href=\\'' + url + '\\'' +\n",
       "                        ' target=\\'_blank\\'>new window</a>'\n",
       "    } else {\n",
       "        div.innerHTML = 'Something has gone wrong. Check notebook server for' +\n",
       "                        ' errors.';\n",
       "    }\n",
       "});\n",
       "})(this.parentElement, '/qiime2/redirect?location=/var/folders/6q/fwkjrzpn4tnf1xgdkbr06_p80000gn/T/qiime2-archive-zuyjmzye')\" src=\"data:image/gif;base64,R0lGODlhAQABAIAAAP///wAAACH5BAEAAAAALAAAAAABAAEAAAICRAEAOw==\" /></div>"
      ],
      "text/plain": [
       "<visualization: Visualization uuid: 6728fb2a-45fc-43c0-8145-276ad56ba719>"
      ]
     },
     "execution_count": 53,
     "metadata": {},
     "output_type": "execute_result"
    }
   ],
   "source": [
    "q2.Visualization.load('/Users/stephaniematthews/Documents/databases/mockCOI-taxonomy-leray_trimmed.qzv')"
   ]
  },
  {
   "cell_type": "markdown",
   "metadata": {},
   "source": [
    "Now import the 18S data (trimmed), train the classifier, and test it on the mock sequences"
   ]
  },
  {
   "cell_type": "code",
   "execution_count": 22,
   "metadata": {},
   "outputs": [
    {
     "name": "stdout",
     "output_type": "stream",
     "text": [
      "\u001b[32mImported ZHAN_18S_MetaZooGene_lower_8_23_2023_upper.fasta as DNASequencesDirectoryFormat to August_NP_run_8_23_2023/ZHAN_18S_MetaZooGene.qza\u001b[0m\n",
      "\u001b[0m"
     ]
    }
   ],
   "source": [
    "#import the sequence data\n",
    "!qiime tools import \\\n",
    "  --type 'FeatureData[Sequence]' \\\n",
    "  --input-path ZHAN_18S_MetaZooGene_lower_8_23_2023_upper.fasta \\\n",
    "  --output-path August_NP_run_8_23_2023/ZHAN_18S_MetaZooGene.qza\n",
    "\n",
    "\n",
    "\n",
    "\n"
   ]
  },
  {
   "cell_type": "code",
   "execution_count": 25,
   "metadata": {},
   "outputs": [
    {
     "name": "stdout",
     "output_type": "stream",
     "text": [
      "\u001b[31m\u001b[1mThere was a problem importing Matthews_18S_Vouchers.fasta:\r\n",
      "\r\n",
      "  Matthews_18S_Vouchers.fasta is not a(n) DNAFASTAFormat file:\r\n",
      "\r\n",
      "  ID on line 41 is a duplicate of another ID on line 35.\u001b[0m\r\n",
      "\r\n",
      "\u001b[0m"
     ]
    }
   ],
   "source": [
    "#import the sequence data for just CCE to sanity check the classifier\n",
    "!qiime tools import \\\n",
    "  --type 'FeatureData[Sequence]' \\\n",
    "  --input-path Matthews_18S_Vouchers.fasta \\\n",
    "  --output-path August_NP_run_8_23_2023/Matthews_18S_Vouchers.qza"
   ]
  },
  {
   "cell_type": "code",
   "execution_count": 36,
   "metadata": {},
   "outputs": [
    {
     "name": "stdout",
     "output_type": "stream",
     "text": [
      "\u001b[32mImported hash_key_18s_run1.fasta as DNASequencesDirectoryFormat to August_NP_run_8_23_2023/Run1_18s_P2107.qza\u001b[0m\n",
      "\u001b[0m\u001b[32mImported hash_key_18s_run2.fasta as DNASequencesDirectoryFormat to August_NP_run_8_23_2023/Run2_18s_P2107.qza\u001b[0m\n",
      "\u001b[0m"
     ]
    }
   ],
   "source": [
    "#import the sequence data for actual data (Run1 18s)\n",
    "\n",
    "!qiime tools import \\\n",
    "  --type 'FeatureData[Sequence]' \\\n",
    "  --input-path hash_key_18s_run1.fasta \\\n",
    "  --output-path August_NP_run_8_23_2023/Run1_18s_P2107.qza\n",
    "\n",
    "!qiime tools import \\\n",
    "  --type 'FeatureData[Sequence]' \\\n",
    "  --input-path hash_key_18s_run2.fasta \\\n",
    "  --output-path August_NP_run_8_23_2023/Run2_18s_P2107.qza"
   ]
  },
  {
   "cell_type": "code",
   "execution_count": 29,
   "metadata": {},
   "outputs": [
    {
     "name": "stdout",
     "output_type": "stream",
     "text": [
      "\u001b[32mImported hash_key_18s_run1.fasta as DNASequencesDirectoryFormat to August_NP_run_8_23_2023/Run1_18s_P2107.qza\u001b[0m\r\n",
      "\u001b[0m"
     ]
    }
   ],
   "source": [
    "#COI\n",
    "!qiime tools import \\\n",
    "  --type 'FeatureData[Sequence]' \\\n",
    "  --input-path hash_key_coi_run1.fasta \\\n",
    "  --output-path August_NP_run_8_23_2023/Run2_coi_P2107.qza\n",
    "!qiime tools import \\\n",
    "  --type 'FeatureData[Sequence]' \\\n",
    "  --input-path hash_key_coi_run2.fasta \\\n",
    "  --output-path August_NP_run_8_23_2023/Run1_coi_P2107.qza"
   ]
  },
  {
   "cell_type": "code",
   "execution_count": null,
   "metadata": {},
   "outputs": [],
   "source": []
  },
  {
   "cell_type": "code",
   "execution_count": 23,
   "metadata": {},
   "outputs": [
    {
     "name": "stdout",
     "output_type": "stream",
     "text": [
      "\u001b[32mImported MZGmothur-18s__MZGdbALL__o07__A_CCE_combo.txt as HeaderlessTSVTaxonomyFormat to August_NP_run_8_23_2023/MZGmothur-18s__MZGdbALL__o00__A.qza\u001b[0m\r\n",
      "\u001b[0m"
     ]
    }
   ],
   "source": [
    "#import the taxonomy data\n",
    "!qiime tools import \\\n",
    "  --type 'FeatureData[Taxonomy]' \\\n",
    "  --input-format HeaderlessTSVTaxonomyFormat \\\n",
    "  --input-path MZGmothur-18s__MZGdbALL__o07__A_CCE_combo.txt \\\n",
    "  --output-path August_NP_run_8_23_2023/MZGmothur-18s__MZGdbALL__o00__A.qza"
   ]
  },
  {
   "cell_type": "code",
   "execution_count": 40,
   "metadata": {},
   "outputs": [
    {
     "name": "stdout",
     "output_type": "stream",
     "text": [
      "\u001b[32mSaved TaxonomicClassifier to: August_NP_run_8_23_2023/MZG-zhan-classifier_r_trimmed.qza\u001b[0m\n",
      "\u001b[0m"
     ]
    }
   ],
   "source": [
    "#train classifier\n",
    "!qiime feature-classifier fit-classifier-naive-bayes \\\n",
    "  --i-reference-reads August_NP_run_8_23_2023/ZHAN_18S_MetaZooGene.qza \\\n",
    "  --i-reference-taxonomy August_NP_run_8_23_2023/MZGmothur-18s__MZGdbALL__o00__A.qza \\\n",
    "  --o-classifier August_NP_run_8_23_2023/MZG-zhan-classifier_r_trimmed.qza \n"
   ]
  },
  {
   "cell_type": "code",
   "execution_count": null,
   "metadata": {},
   "outputs": [],
   "source": [
    "!qiime feature-classifier classify-sklearn \\\n",
    "  --i-classifier /Users/stephaniematthews/Documents/databases/MetaZooGene26Oct2022/MZG-zhan-classifier_r_trimmed.qza \\\n",
    "  --i-reads /Users/stephaniematthews/Documents/databases/mock18S.qza \\\n",
    "  --o-classification /Users/stephaniematthews/Documents/databases/mock18S-taxonomy-zhan_trimmed.qza\n",
    "\n",
    "!qiime metadata tabulate \\\n",
    "  --m-input-file /Users/stephaniematthews/Documents/databases/mock18S-taxonomy-zhan_trimmed.qza \\\n",
    "  --o-visualization /Users/stephaniematthews/Documents/databases/mock18S-taxonomy-zhan_trimmed.qzv"
   ]
  },
  {
   "cell_type": "code",
   "execution_count": null,
   "metadata": {},
   "outputs": [],
   "source": []
  },
  {
   "cell_type": "code",
   "execution_count": 41,
   "metadata": {},
   "outputs": [
    {
     "name": "stdout",
     "output_type": "stream",
     "text": [
      "\u001b[32mSaved FeatureData[Taxonomy] to: August_NP_run_8_23_2023/Run1_18S_P2107-taxonomy-zhan_trimmed.qza\u001b[0m\n",
      "\u001b[0m\u001b[32mSaved FeatureData[Taxonomy] to: August_NP_run_8_23_2023/Run2_18S_P2107-taxonomy-zhan_trimmed.qza\u001b[0m\n",
      "\u001b[0m"
     ]
    }
   ],
   "source": [
    "#test it on the my Run1 18s data\n",
    "#!qiime tools import \\\n",
    "#  --type 'FeatureData[Sequence]' \\\n",
    "#  --input-path /Users/stephaniematthews/Desktop/UniqueCOI.fasta \\\n",
    "#  --output-path /Users/stephaniematthews/Documents/databases/mockCOI.qza\n",
    "\n",
    "!qiime feature-classifier classify-sklearn \\\n",
    "  --i-classifier August_NP_run_8_23_2023/MZG-zhan-classifier_r_trimmed.qza \\\n",
    "  --i-reads August_NP_run_8_23_2023/Run1_18s_P2107.qza \\\n",
    "  --o-classification August_NP_run_8_23_2023/Run1_18S_P2107-taxonomy-zhan_trimmed.qza\n",
    "\n",
    "!qiime feature-classifier classify-sklearn \\\n",
    "  --i-classifier August_NP_run_8_23_2023/MZG-zhan-classifier_r_trimmed.qza \\\n",
    "  --i-reads August_NP_run_8_23_2023/Run2_18s_P2107.qza \\\n",
    "  --o-classification August_NP_run_8_23_2023/Run2_18S_P2107-taxonomy-zhan_trimmed.qza\n",
    "\n"
   ]
  },
  {
   "cell_type": "code",
   "execution_count": 42,
   "metadata": {},
   "outputs": [
    {
     "name": "stdout",
     "output_type": "stream",
     "text": [
      "\u001b[32mSaved Visualization to: August_NP_run_8_23_2023/Run1_18S_P2107-taxonomy-zhan_trimmed.qzv\u001b[0m\n",
      "\u001b[0m\u001b[32mSaved Visualization to: August_NP_run_8_23_2023/Run2_18S_P2107-taxonomy-zhan_trimmed.qzv\u001b[0m\n",
      "\u001b[0m"
     ]
    }
   ],
   "source": [
    "!qiime metadata tabulate \\\n",
    "  --m-input-file August_NP_run_8_23_2023/Run1_18S_P2107-taxonomy-zhan_trimmed.qza \\\n",
    "  --o-visualization August_NP_run_8_23_2023/Run1_18S_P2107-taxonomy-zhan_trimmed.qzv\n",
    "\n",
    "!qiime metadata tabulate \\\n",
    "  --m-input-file August_NP_run_8_23_2023/Run2_18S_P2107-taxonomy-zhan_trimmed.qza \\\n",
    "  --o-visualization August_NP_run_8_23_2023/Run2_18S_P2107-taxonomy-zhan_trimmed.qzv"
   ]
  },
  {
   "cell_type": "code",
   "execution_count": 35,
   "metadata": {},
   "outputs": [
    {
     "data": {
      "text/html": [
       "<div><img onload=\"(function(div, url){\n",
       "if (typeof require !== 'undefined') {\n",
       "    var baseURL = require.toUrl('').split('/').slice(0, -2).join('/');\n",
       "} else {\n",
       "    var baseURL = JSON.parse(\n",
       "        document.getElementById('jupyter-config-data').innerHTML\n",
       "    ).baseUrl.slice(0, -1);\n",
       "}\n",
       "url = baseURL + url;\n",
       "fetch(url).then(function(res) {\n",
       "    if (res.status === 404) {\n",
       "        div.innerHTML = 'Install QIIME 2 Jupyter extension with:<br />' +\n",
       "                        '<code>jupyter serverextension enable --py qiime2' +\n",
       "                        ' --sys-prefix</code><br />then restart your server.' +\n",
       "                        '<br /><br />(Interactive output not available on ' +\n",
       "                        'static notebook viewer services like nbviewer.)';\n",
       "    } else if (res.status === 409) {\n",
       "        div.innerHTML = 'Visualization no longer in scope. Re-run this cell' +\n",
       "                        ' to see the visualization.';\n",
       "    } else if (res.ok) {\n",
       "        url = res.url;\n",
       "        div.innerHTML = '<iframe src=\\'' + url + '\\' style=\\'' +\n",
       "                        'width: 100%; height: 700px; border: 0;\\'>' +\n",
       "                        '</iframe><hr />Open in a: <a href=\\'' + url + '\\'' +\n",
       "                        ' target=\\'_blank\\'>new window</a>'\n",
       "    } else {\n",
       "        div.innerHTML = 'Something has gone wrong. Check notebook server for' +\n",
       "                        ' errors.';\n",
       "    }\n",
       "});\n",
       "})(this.parentElement, '/qiime2/redirect?location=/tmp/qiime2/dcapone/data/bf79029c-ddcb-4a6f-8caa-5aa495564b14')\" src=\"data:image/gif;base64,R0lGODlhAQABAIAAAP///wAAACH5BAEAAAAALAAAAAABAAEAAAICRAEAOw==\" /></div>"
      ],
      "text/plain": [
       "<visualization: Visualization uuid: bf79029c-ddcb-4a6f-8caa-5aa495564b14>"
      ]
     },
     "execution_count": 35,
     "metadata": {},
     "output_type": "execute_result"
    }
   ],
   "source": [
    "q2.Visualization.load('August_NP_run_8_23_2023/Run1_18S_P2107-taxonomy-zhan_trimmed.qzv')\n",
    "q2.Visualization.load('August_NP_run_8_23_2023/Run2_18S_P2107-taxonomy-zhan_trimmed.qzv')"
   ]
  },
  {
   "cell_type": "code",
   "execution_count": null,
   "metadata": {},
   "outputs": [],
   "source": []
  }
 ],
 "metadata": {
  "kernelspec": {
   "display_name": "Python 3 (ipykernel)",
   "language": "python",
   "name": "python3"
  },
  "language_info": {
   "codemirror_mode": {
    "name": "ipython",
    "version": 3
   },
   "file_extension": ".py",
   "mimetype": "text/x-python",
   "name": "python",
   "nbconvert_exporter": "python",
   "pygments_lexer": "ipython3",
   "version": "3.8.16"
  }
 },
 "nbformat": 4,
 "nbformat_minor": 4
}
